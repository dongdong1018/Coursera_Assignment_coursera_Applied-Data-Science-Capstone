{
 "cells": [
  {
   "cell_type": "markdown",
   "metadata": {
    "collapsed": true
   },
   "source": [
    "# Introduction"
   ]
  },
  {
   "cell_type": "markdown",
   "metadata": {},
   "source": [
    "Each year, the international consulting firm Mercer carries out a study to assess the quality of life in 231 cities around the world. In 2019 the Austrian federal capital was award the most livable city in the world for the tenth time in a row."
   ]
  },
  {
   "cell_type": "markdown",
   "metadata": {},
   "source": [
    "Although Vienna is the most livable city in the world, people still would like to know more about which district in the city would suit them more, before moving to Vienna. For example, there are so many factors affect people to make decisions to start a new life in a city, such as house price, school rating, crime rating, neighborhood analysis etc. That calls for a search algorithm which normally gives the requested features. "
   ]
  },
  {
   "cell_type": "markdown",
   "metadata": {},
   "source": [
    "This project is to help stakeholders to explore Vienna, in order to make a better decision which district is the best area to start a new life. There are in total 23 districts in Vienna. The renting price is quite different from one district to another. For example, the 1st district locates in the city center, which is of course the most convenient place to live. However, the renting price must be taken into consideration. According to  the information we scraped from internet, the 1st district is the most expensive district. \n",
    "\n",
    "\n",
    "\n",
    "So the purpose of this project is to help stakeholders to find a district to rent an apartment, with a relatively cheaper rental price and relative convenient living facilities such as cafes, restaurants, bakeries, gyms etc. \n"
   ]
  },
  {
   "cell_type": "markdown",
   "metadata": {},
   "source": [
    "# Data Source"
   ]
  },
  {
   "cell_type": "markdown",
   "metadata": {},
   "source": [
    "1.\tVienna rental price: https://www.virtualvienna.net/moving-to-vienna/accommodation/real-estate-rental-prices/\n",
    "\n",
    "\n",
    "2.\tVienna public area data such as forest area, water area, population density, traffic density, building density of each district can be scraped from:\n",
    "\n",
    "https://www.wien.gv.at/statistik/lebensraum/tabellen/nutzungsklassen-bez.html\n",
    "\n",
    "\n",
    "\n",
    "3.\tFour-square API would be used in this project as the prime data gathering source, which provides the ability to perform location search, location sharing and details about a business. Photos, tips and reviews.\n",
    "\n",
    "\n",
    "\n",
    "4.\tIn order to use Four square data, the coordination of each district from Vienna must be acquired. So we get the latitude and the longitude coordinates of each Vienna district via the following link:\n",
    "\n",
    "https://data.wien.gv.at/daten/geo?service=WFS&request=GetFeature&version=1.1.0&typeName=ogdwien:BEZIRKSGRENZEOGD&srsName=EPSG:4326&outputFormat=json\n",
    "\n"
   ]
  },
  {
   "cell_type": "markdown",
   "metadata": {},
   "source": [
    "# Methodology"
   ]
  },
  {
   "cell_type": "markdown",
   "metadata": {},
   "source": [
    " *\tPandas will be used to scrap tables from websites.\n",
    "\n",
    "\n",
    " *  Numpy and Pandas also would be used in data wrangling.\n",
    "\n",
    "\n",
    " *  Foursquare API search feature would be enabled to collect the nearby venues of the districts.\n",
    "\n",
    "\n",
    " *  Folium- Python visualization library would be used to visualize the district cluster distribution of vienna over an interactive leaflet map.\n",
    "\n",
    "\n",
    " *\tUnsupervised machine learning algorithm K-mean clustering would be applied to form the clusters of different categories of venues residing in and around the districts. \n"
   ]
  },
  {
   "cell_type": "markdown",
   "metadata": {},
   "source": [
    "# Result"
   ]
  },
  {
   "cell_type": "markdown",
   "metadata": {},
   "source": [
    "\n",
    "From all the venues data, 23 districts of Vienna are clustered into 8 clusters. "
   ]
  },
  {
   "cell_type": "markdown",
   "metadata": {},
   "source": [
    "# Discussion"
   ]
  },
  {
   "cell_type": "markdown",
   "metadata": {},
   "source": [
    "This analysis shows that Innere stadt, Landstraße, and Meidling have the most similar venues.  Given rental price in Meidling is a bit lower, I would suggest starting a new life in Meidling would not be a bad decision. "
   ]
  },
  {
   "cell_type": "code",
   "execution_count": null,
   "metadata": {
    "collapsed": true
   },
   "outputs": [],
   "source": []
  }
 ],
 "metadata": {
  "kernelspec": {
   "display_name": "Python 3",
   "language": "python",
   "name": "python3"
  },
  "language_info": {
   "codemirror_mode": {
    "name": "ipython",
    "version": 3
   },
   "file_extension": ".py",
   "mimetype": "text/x-python",
   "name": "python",
   "nbconvert_exporter": "python",
   "pygments_lexer": "ipython3",
   "version": "3.6.7"
  }
 },
 "nbformat": 4,
 "nbformat_minor": 2
}
