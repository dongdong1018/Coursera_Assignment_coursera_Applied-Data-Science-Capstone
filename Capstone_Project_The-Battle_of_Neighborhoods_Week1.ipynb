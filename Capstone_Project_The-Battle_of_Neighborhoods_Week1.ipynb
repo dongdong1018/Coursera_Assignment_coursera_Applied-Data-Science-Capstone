{
 "cells": [
  {
   "cell_type": "markdown",
   "metadata": {},
   "source": [
    "# Introduction"
   ]
  },
  {
   "cell_type": "markdown",
   "metadata": {},
   "source": [
    "Each year, the international consulting firm Mercer carries out a study to assess the quality of life in 231 cities around the world. In 2019 the Austrian federal capital was award the most livable city in the world for the tenth time in a row."
   ]
  },
  {
   "cell_type": "markdown",
   "metadata": {},
   "source": [
    "Although Vienna is the most livable city in the world, people still would like to know more about which district in the city would suit them more, before moving to Vienna. For example, there are so many factors affect people to make decisions to start a new life in a city, such as house price, school rating, crime rating, neighborhood analysis etc. That calls for a search algorithm which normally gives the requested features. "
   ]
  },
  {
   "cell_type": "markdown",
   "metadata": {},
   "source": [
    "This project is to help stakeholders or anyone who wants to explore Vienna, in order to make a better decision which district is the best area to start a new life. \n",
    "\n",
    "There are in total 23 districts in Vienna. The rental cost is quite different from one district to another. For example, the 1st district locates in the city center, which is of course the most convenient place to live. However, the renting price must be taken into consideration. According to the information we scraped from internet, the 1st district is the most expensive district. \n",
    "\n",
    "\n",
    "So the purpose of this project is to help stakeholders to find a district to rent an apartment, with a relatively cheaper rental cost and relative convenient living facilities such as cafes, restaurants, bakeries, gyms etc. \n"
   ]
  },
  {
   "cell_type": "markdown",
   "metadata": {},
   "source": [
    "# Data Sources"
   ]
  },
  {
   "cell_type": "markdown",
   "metadata": {},
   "source": [
    "1.\tVienna rental price: In vienna, there are 23 districts in total. In order to find a balance between cheaper rental price and more convenient living facilities, we have to know the rental cost of each district. The link below provides the rental price of apartment with differece sizes. In this project, we only consider the average rental price (AVERAGE/M²). However, the algorithm used in this project also can be applied to small (<50 M²)/medium (50-129 M²)/large (>130M²) apartments. https://www.virtualvienna.net/moving-to-vienna/accommodation/real-estate-rental-prices/\n",
    "\n",
    "2.\tVienna public area data: Vienna public area data such as forest (green) area, water area, population density, traffic density, building density of each district are also needed to take into account when trying to rent an apartment. Here in this project, we only consider the percentage of forest area (Grünflächen). The following link provides Vienna public area data: https://www.wien.gv.at/statistik/lebensraum/tabellen/nutzungsklassen-bez.html\n",
    "\n",
    "3.\tFour-square API would be used in this project as the prime data gathering source, which provides the ability to perform location search, location sharing and details about a business. Photos, tips and reviews.\n",
    "\n",
    "4.\tIn order to use Four square data, the coordination of each district from Vienna must be acquired. So we get the latitude and the longitude coordinates of each Vienna district via the following link:\n",
    "https://data.wien.gv.at/daten/geo?service=WFS&request=GetFeature&version=1.1.0&typeName=ogdwien:BEZIRKSGRENZEOGD&srsName=EPSG:4326&outputFormat=json\n"
   ]
  },
  {
   "cell_type": "code",
   "execution_count": null,
   "metadata": {
    "collapsed": true
   },
   "outputs": [],
   "source": []
  }
 ],
 "metadata": {
  "kernelspec": {
   "display_name": "Python 3",
   "language": "python",
   "name": "python3"
  },
  "language_info": {
   "codemirror_mode": {
    "name": "ipython",
    "version": 3
   },
   "file_extension": ".py",
   "mimetype": "text/x-python",
   "name": "python",
   "nbconvert_exporter": "python",
   "pygments_lexer": "ipython3",
   "version": "3.6.7"
  }
 },
 "nbformat": 4,
 "nbformat_minor": 2
}
